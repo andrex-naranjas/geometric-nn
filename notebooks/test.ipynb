{
 "cells": [
  {
   "cell_type": "code",
   "execution_count": null,
   "metadata": {},
   "outputs": [],
   "source": [
    "import numpy as np\n",
    "import pandas as pd\n",
    "import matplotlib.pyplot as plt\n",
    "import torch\n",
    "from torch.utils.data import DataLoader, TensorDataset\n",
    "from sklearn.metrics import accuracy_score, precision_score\n",
    "from tqdm import tqdm\n",
    "import torch.nn as nn\n",
    "import torch.nn.functional as F\n",
    "import time\n",
    "from tqdm.notebook import tqdm\n",
    "import torch.nn.functional as F\n",
    "import sklearn"
   ]
  },
  {
   "cell_type": "code",
   "execution_count": null,
   "metadata": {},
   "outputs": [],
   "source": [
    "class ANN_Model(nn.Module):\n",
    "    def __init__(self, \n",
    "                 input_features = 16, \n",
    "                 out_features=2,\n",
    "                 hdn_dim=30):\n",
    "       \n",
    "        super().__init__()\n",
    "       \n",
    "        self.linear_relu_stack = nn.Sequential( \n",
    "            nn.Linear(input_features, hdn_dim),\n",
    "            nn.Dropout(p=0.3),\n",
    "            nn.ReLU(),\n",
    "            nn.Linear(hdn_dim, hdn_dim),\n",
    "            nn.Dropout(p=0.3),\n",
    "            nn.ReLU(),\n",
    "            nn.Linear(hdn_dim, hdn_dim),\n",
    "            nn.Dropout(p=0.3),\n",
    "            nn.ReLU(),\n",
    "            nn.Linear(hdn_dim, hdn_dim),\n",
    "            nn.Dropout(p=0.3),\n",
    "            nn.ReLU(),\n",
    "            nn.Linear(hdn_dim, out_features),\n",
    "        )\n",
    "\n",
    "    def forward(self, x):\n",
    "        out = self.linear_relu_stack(x)\n",
    "        return out"
   ]
  },
  {
   "cell_type": "code",
   "execution_count": null,
   "metadata": {},
   "outputs": [],
   "source": [
    "# Function to check device availability\n",
    "def device_available(force_cpu=False): \n",
    "    if force_cpu or not torch.cuda.is_available():\n",
    "        device = torch.device('cpu')\n",
    "        print(\"Using CPU\")\n",
    "    else:\n",
    "        device = torch.device('cuda')\n",
    "        print(\"Using GPU\")\n",
    "    return device"
   ]
  },
  {
   "cell_type": "code",
   "execution_count": null,
   "metadata": {},
   "outputs": [],
   "source": [
    "def evaluate(model, test_loader, device):\n",
    "    #VALIDATION\n",
    "    model.eval()\n",
    "    test_preds, test_targets = [], []\n",
    "    with torch.no_grad(): #to not calculate and update gradients since its a validation\n",
    "        for inpt, target in test_loader:\n",
    "            inpt, target = inpt.to(device), target.to(device)\n",
    "            out = model(inpt)\n",
    "            _, preds = torch.max(out, dim=1) \n",
    "            test_preds.extend(preds.cpu().numpy())\n",
    "            test_targets.extend(target.cpu().numpy())\n",
    "    \n",
    "    #METRICS\n",
    "    accuracy = accuracy_score(test_targets, test_preds)\n",
    "    precision_pos = precision_score(test_targets, test_preds, pos_label=1)  \n",
    "    precision_neg = precision_score(test_targets, test_preds, pos_label=0)\n",
    "    return accuracy, precision_pos, precision_neg"
   ]
  },
  {
   "cell_type": "code",
   "execution_count": null,
   "metadata": {},
   "outputs": [],
   "source": [
    "model = ANN_Model()\n",
    "\n",
    "model.load_state_dict(torch.load('model_features.pth', weights_only=True))\n",
    "\n",
    "device = device_available(force_cpu=True)"
   ]
  },
  {
   "cell_type": "code",
   "execution_count": null,
   "metadata": {},
   "outputs": [],
   "source": [
    "model.eval()  # This disables dropout/batch norm if you have any\n",
    "\n",
    "\n",
    "X_test = np.load(\"X_test.npy\")\n",
    "Y_test = np.load(\"Y_test.npy\")\n",
    "\n",
    "X_test = torch.tensor(X_test)\n",
    "Y_test = torch.tensor(Y_test)\n",
    "test_dataset = TensorDataset(X_test, Y_test)\n",
    "test_loader = DataLoader(test_dataset, \n",
    "                            batch_size=64,\n",
    "                            shuffle=False,\n",
    "                            num_workers=4,\n",
    "                            pin_memory=True)\n",
    "\n",
    "# Run evaluation using your existing function\n",
    "accuracy, precision_pos, precision_neg = evaluate(model, test_loader, device)\n",
    "\n",
    "# Print results\n",
    "print(f\"Accuracy: {accuracy}\")\n",
    "print(f\"Positive Precision: {precision_pos}\")\n",
    "print(f\"Negative Precision: {precision_neg}\")"
   ]
  },
  {
   "cell_type": "code",
   "execution_count": null,
   "metadata": {},
   "outputs": [],
   "source": []
  }
 ],
 "metadata": {
  "kernelspec": {
   "display_name": "hep-ml",
   "language": "python",
   "name": "python3"
  },
  "language_info": {
   "codemirror_mode": {
    "name": "ipython",
    "version": 3
   },
   "file_extension": ".py",
   "mimetype": "text/x-python",
   "name": "python",
   "nbconvert_exporter": "python",
   "pygments_lexer": "ipython3",
   "version": "3.12.8"
  }
 },
 "nbformat": 4,
 "nbformat_minor": 2
}
