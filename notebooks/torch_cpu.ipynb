{
 "cells": [
  {
   "cell_type": "code",
   "execution_count": 6,
   "id": "759636c0",
   "metadata": {},
   "outputs": [],
   "source": [
    "import uproot\n",
    "import awkward\n",
    "import numpy as np\n",
    "import time\n",
    "import pandas as pd\n",
    "#from sklearn.model_selection import train_test_split\n",
    "#from sklearn.preprocessing import StandardScaler\n",
    "import matplotlib.pyplot as plt\n",
    "from matplotlib import pyplot\n",
    "#from sklearn.metrics import roc_curve, auc, roc_auc_score\n",
    "#import keras\n",
    "#from keras.models import Sequential\n",
    "#from keras.layers import Dense\n",
    "#from keras.layers import Flatten\n",
    "#from sklearn.metrics import auc\n",
    "#import seaborn as sns\n",
    "import torch\n",
    "from torch.utils.data.dataloader import DataLoader\n",
    "#from sklearn.metrics import mean_squared_error\n",
    "#from sklearn.metrics import accuracy_score\n",
    "import torch.nn as nn\n",
    "import torch.nn.functional as F\n",
    "import timeit\n",
    "import os"
   ]
  },
  {
   "cell_type": "code",
   "execution_count": 7,
   "id": "44450ea3",
   "metadata": {},
   "outputs": [],
   "source": [
    "os.environ['CUDA_VISIBLE_DEVICES']=\"1\"\n"
   ]
  },
  {
   "cell_type": "code",
   "execution_count": 8,
   "id": "98c3395e",
   "metadata": {},
   "outputs": [],
   "source": [
    "#torch.cuda.is_available()\n",
    "\n",
    "torch.cuda.empty_cache()"
   ]
  },
  {
   "cell_type": "code",
   "execution_count": 31,
   "id": "79c1d04b",
   "metadata": {},
   "outputs": [],
   "source": [
    "workpath = os.getcwd()\n",
    "file_train = uproot.open(workpath+'/'+'data/train_D02kpipi0vxVc-cont0p5.root')\n",
    "#file_test = uproot.open(workpath+'/'+'data/test_D02kpipi0vxVc-cont0p5.root')\n",
    "tree_train = file_train['d0tree']\n",
    "#tree_test = file_test['d0tree']\n",
    "df_train = tree_train.arrays(library=\"pd\")\n",
    "#df_test = tree_test.arrays(library=\"pd\")"
   ]
  },
  {
   "cell_type": "code",
   "execution_count": 10,
   "id": "d9656d55",
   "metadata": {},
   "outputs": [],
   "source": [
    "df_train=df_train.drop(['vM','vpCMS','__index__'],axis=1)\n",
    "#df_test=df_test.drop(['vM','vpCMS','__index__'],axis=1)"
   ]
  },
  {
   "cell_type": "code",
   "execution_count": 11,
   "id": "9f5f1e7b",
   "metadata": {},
   "outputs": [],
   "source": [
    "X_train = df_train.drop(['isSignal'],axis=1)\n",
    "y_train = df_train['isSignal']\n",
    "#X_test  =df_test.drop(['isSignal'],axis=1)\n",
    "#y_test=df_test['isSignal']"
   ]
  },
  {
   "cell_type": "code",
   "execution_count": 12,
   "id": "bffd5b14",
   "metadata": {},
   "outputs": [],
   "source": [
    "test_x = torch.tensor(X_train.values.astype(np.float32))\n",
    "test_y = torch.tensor(y_train.values.astype(np.int64))"
   ]
  },
  {
   "cell_type": "code",
   "execution_count": 13,
   "id": "57448496",
   "metadata": {},
   "outputs": [],
   "source": [
    "test = df_train[df_train['isSignal']==0]\n",
    "test_x = test.drop(['isSignal'],axis=1)\n",
    "test_y = test['isSignal']\n",
    "test_x = torch.tensor(test_x.values.astype(np.float32))\n",
    "test_y = torch.tensor(test_y.values.astype(np.int64))"
   ]
  },
  {
   "cell_type": "code",
   "execution_count": 32,
   "id": "ce200fc7",
   "metadata": {},
   "outputs": [
    {
     "data": {
      "text/plain": [
       "torch.Size([20147, 12])"
      ]
     },
     "execution_count": 32,
     "metadata": {},
     "output_type": "execute_result"
    }
   ],
   "source": [
    "test_x.shape"
   ]
  },
  {
   "cell_type": "code",
   "execution_count": 33,
   "id": "07a07b47",
   "metadata": {},
   "outputs": [],
   "source": [
    "#sc=StandardScaler()\n",
    "#X_train=sc.fit_transform(X_train)\n",
    "#X_test=sc.transform(X_test)\n",
    "#torch.cuda.current_device()"
   ]
  },
  {
   "cell_type": "code",
   "execution_count": 34,
   "id": "a02f7886",
   "metadata": {},
   "outputs": [],
   "source": [
    "def device_available():\n",
    "    if torch.cuda.is_available():\n",
    "        return torch.device('cuda')\n",
    "    else:\n",
    "        return torch.device('cpu')\n",
    "    \n",
    "def feed_device(data,device):\n",
    "    if isinstance(data, (list,tuple)):\n",
    "        return [feed_device(x, device) for x in data]\n",
    "    return data.to(device,non_blocking = True)\n",
    "\n",
    "class DeviceDataLoader():\n",
    "    \"\"\"Wrap a dataloader to move data to a device\"\"\"\n",
    "    def __init__(self, dl, device):\n",
    "        self.dl = dl\n",
    "        self.device = device\n",
    "        \n",
    "    def __iter__(self):\n",
    "        \"\"\"Yield a batch of data after moving it to device\"\"\"\n",
    "        for b in self.dl: \n",
    "            yield feed_device(b, self.device)\n",
    "\n",
    "    def __len__(self):\n",
    "        \"\"\"Number of batches\"\"\"\n",
    "        return len(self.dl)"
   ]
  },
  {
   "cell_type": "code",
   "execution_count": null,
   "id": "6b396e7a",
   "metadata": {},
   "outputs": [],
   "source": []
  },
  {
   "cell_type": "code",
   "execution_count": 35,
   "id": "056ca4dc",
   "metadata": {},
   "outputs": [],
   "source": [
    "class load():\n",
    "    def load_train_tensor(self,X_train,y_train):\n",
    "        X_train=torch.tensor(X_train.values.astype(np.float32))     \n",
    "        y_train=torch.tensor(y_train.values.astype(np.int64))\n",
    "        train_tensor = torch.utils.data.TensorDataset(X_train,y_train)\n",
    "        train_loader = DataLoader(train_tensor, 32,shuffle =True )\n",
    "        return train_loader\n",
    "    def load_test_tensor(self):\n",
    "        X_test=torch.tensor(X_test.values.astype(np.float32))\n",
    "        y_test=torch.tensor(y_test.values.astype(np.int64)) \n",
    "        test_tensor = torch.utils.data.TensorDataset(X_test,y_test)\n",
    "        return test_tensor\n",
    "    def load_train_batch(batch_size=32):\n",
    "        train_loader = DataLoader(train_tensor, batch_size_train,shuffle =True )\n"
   ]
  },
  {
   "cell_type": "code",
   "execution_count": 36,
   "id": "c481c648",
   "metadata": {},
   "outputs": [],
   "source": [
    "class preprocess(nn.Module):   \n",
    "    def training_step(self, batch):\n",
    "        inp, labels = batch \n",
    "        out = model.forward(inp)                  # Generate predictions\n",
    "        loss = F.cross_entropy(out, labels) # Calculate loss\n",
    "        return loss\n",
    "          \n",
    "    def test_step(self,batch):\n",
    "        inp, labels = batch \n",
    "        out =  model(inp)                     # Generate predictions\n",
    "        loss = F.cross_entropy(out, labels)   # Calculate loss\n",
    "        acc = metric.accuracy(out, labels)           # Calculate accuracy\n",
    "        return {'test_loss': loss.detach(), 'test_acc': acc}\n",
    "    def test_epoch_end(self,outputs):\n",
    "        batch_losses = [x['test_loss'] for x in outputs]\n",
    "        epoch_loss = torch.stack(batch_losses).mean()   # Combine losses\n",
    "        batch_accs = [x['test_acc'] for x in outputs]\n",
    "        epoch_acc = torch.stack(batch_accs).mean()      # Combine accuracies\n",
    "        return {'test_loss': epoch_loss.item(), 'test_acc': epoch_acc.item()}\n",
    "    def epoch_end(self, epoch, result):\n",
    "        print(\"Epoch [{}], test_loss: {:.4f}, test_acc: {:.4f}\".format(epoch, result['test_loss'], result['test_acc']))\n",
    "    "
   ]
  },
  {
   "cell_type": "code",
   "execution_count": 37,
   "id": "e2577cf4",
   "metadata": {},
   "outputs": [],
   "source": [
    "class ANN_Model(preprocess,load):\n",
    "    def __init__(self,input_features=12,hidden1=60,hidden2=25,hidden3=30,out_features=2):\n",
    "        super().__init__()\n",
    "        self.f_connected1=nn.Linear(input_features,hidden1)\n",
    "        self.f_connected2=nn.Linear(hidden1,hidden2)\n",
    "        self.f_connected3=nn.Linear(hidden2,hidden3)\n",
    "        self.out=nn.Linear(hidden3,out_features)\n",
    "    def forward(self,x):\n",
    "        x=F.relu(self.f_connected1(x))\n",
    "        x=F.relu(self.f_connected2(x))\n",
    "        x=F.relu(self.f_connected3(x))\n",
    "        #x=F.softmax(self.out(x))\n",
    "        x=torch.sigmoid(self.out(x))\n",
    "        return x"
   ]
  },
  {
   "cell_type": "code",
   "execution_count": 38,
   "id": "050855a0",
   "metadata": {},
   "outputs": [],
   "source": [
    "class metric():\n",
    "    @torch.no_grad()\n",
    "    def evaluate(model, test_loader):\n",
    "        outputs = [model.test_step(batch) for batch in test_loader]\n",
    "        return model.test_epoch_end(outputs)\n",
    "\n",
    "\n",
    "    def fit(epochs, lr, model, train_loader, test_loader, opt_func=torch.optim.SGD):\n",
    "        optimizer = opt_func(model.parameters(), lr)\n",
    "        history = [] # for recording epoch-wise results\n",
    "\n",
    "        for epoch in range(epochs):\n",
    "\n",
    "            # Training Phase \n",
    "            for batch in train_loader:\n",
    "                loss = model.training_step(batch)\n",
    "                loss.backward()\n",
    "                optimizer.step()\n",
    "                optimizer.zero_grad()\n",
    "\n",
    "            # Validation phase\n",
    "            result = metric.evaluate(model, test_loader)\n",
    "            model.epoch_end(epoch, result)\n",
    "            history.append(result)\n",
    "\n",
    "        return history\n",
    "    def accuracy(outputs, labels):\n",
    "        _, preds = torch.max(outputs, dim=1)\n",
    "        return torch.tensor(torch.sum(preds == labels).item() / len(preds))\n"
   ]
  },
  {
   "cell_type": "code",
   "execution_count": 39,
   "id": "0cda4dbb",
   "metadata": {},
   "outputs": [
    {
     "data": {
      "text/plain": [
       "device(type='cpu')"
      ]
     },
     "execution_count": 39,
     "metadata": {},
     "output_type": "execute_result"
    }
   ],
   "source": [
    "device=device_available()\n",
    "device"
   ]
  },
  {
   "cell_type": "code",
   "execution_count": 40,
   "id": "db7bef68",
   "metadata": {},
   "outputs": [],
   "source": [
    "model = ANN_Model()"
   ]
  },
  {
   "cell_type": "code",
   "execution_count": 41,
   "id": "93e30b50",
   "metadata": {},
   "outputs": [],
   "source": [
    "model=feed_device(model,device)"
   ]
  },
  {
   "cell_type": "code",
   "execution_count": 42,
   "id": "c3613019",
   "metadata": {},
   "outputs": [],
   "source": [
    "#model=ANN_Model()  # crashes if there is no GPU available\n",
    "#model=model.cuda()\n",
    "#for i in model.parameters():\n",
    "#    print(i.is_cuda())"
   ]
  },
  {
   "cell_type": "code",
   "execution_count": 43,
   "id": "1fc15e83",
   "metadata": {},
   "outputs": [],
   "source": [
    "x_train_bt=model.load_train_tensor(X_train,y_train)\n"
   ]
  },
  {
   "cell_type": "code",
   "execution_count": null,
   "id": "a79d085d",
   "metadata": {},
   "outputs": [],
   "source": []
  },
  {
   "cell_type": "code",
   "execution_count": 44,
   "id": "ac6f9879",
   "metadata": {},
   "outputs": [
    {
     "data": {
      "text/plain": [
       "1260"
      ]
     },
     "execution_count": 44,
     "metadata": {},
     "output_type": "execute_result"
    }
   ],
   "source": [
    "train_loader = DeviceDataLoader(x_train_bt, device)\n",
    "len(train_loader)"
   ]
  },
  {
   "cell_type": "code",
   "execution_count": 45,
   "id": "0fb69f0f",
   "metadata": {},
   "outputs": [
    {
     "name": "stdout",
     "output_type": "stream",
     "text": [
      "False\n"
     ]
    }
   ],
   "source": [
    "for i in train_loader:\n",
    "    print(i[0].is_cuda)\n",
    "    break"
   ]
  },
  {
   "cell_type": "code",
   "execution_count": null,
   "id": "626a5e4e",
   "metadata": {},
   "outputs": [],
   "source": []
  },
  {
   "cell_type": "code",
   "execution_count": 46,
   "id": "56d8f7ed",
   "metadata": {},
   "outputs": [
    {
     "name": "stdout",
     "output_type": "stream",
     "text": [
      "Epoch [0], test_loss: 0.6928, test_acc: 0.4909\n",
      "Epoch [1], test_loss: 0.6920, test_acc: 0.4947\n",
      "Epoch [2], test_loss: 0.6912, test_acc: 0.5489\n",
      "Epoch [3], test_loss: 0.6905, test_acc: 0.6463\n",
      "Epoch [4], test_loss: 0.6897, test_acc: 0.6898\n"
     ]
    }
   ],
   "source": [
    "h=metric.fit(5, 0.001, model, train_loader, train_loader)"
   ]
  },
  {
   "cell_type": "code",
   "execution_count": 47,
   "id": "b752d23e",
   "metadata": {},
   "outputs": [
    {
     "name": "stdout",
     "output_type": "stream",
     "text": [
      "Epoch [0], test_loss: 0.6888, test_acc: 0.7024\n",
      "Epoch [1], test_loss: 0.6878, test_acc: 0.6994\n",
      "Epoch [2], test_loss: 0.6868, test_acc: 0.6941\n",
      "Epoch [3], test_loss: 0.6855, test_acc: 0.6808\n",
      "Epoch [4], test_loss: 0.6841, test_acc: 0.6657\n"
     ]
    }
   ],
   "source": [
    "h1=metric.fit(5, 0.001, model, train_loader, train_loader)"
   ]
  },
  {
   "cell_type": "code",
   "execution_count": 51,
   "id": "173c34b9",
   "metadata": {},
   "outputs": [
    {
     "name": "stdout",
     "output_type": "stream",
     "text": [
      "Epoch [0], test_loss: 0.6824, test_acc: 0.6552\n",
      "Epoch [1], test_loss: 0.6805, test_acc: 0.6461\n",
      "Epoch [2], test_loss: 0.6782, test_acc: 0.6420\n",
      "Epoch [3], test_loss: 0.6755, test_acc: 0.6403\n",
      "Epoch [4], test_loss: 0.6723, test_acc: 0.6428\n"
     ]
    }
   ],
   "source": [
    "h2=metric.fit(5, 0.001, model, train_loader, train_loader)"
   ]
  },
  {
   "cell_type": "code",
   "execution_count": 48,
   "id": "c04b5b1e",
   "metadata": {},
   "outputs": [
    {
     "data": {
      "text/plain": [
       "{'test_loss': 0.6840898990631104, 'test_acc': 0.6659143567085266}"
      ]
     },
     "execution_count": 48,
     "metadata": {},
     "output_type": "execute_result"
    }
   ],
   "source": [
    "result0 = metric.evaluate(model, train_loader)\n",
    "result0"
   ]
  },
  {
   "cell_type": "code",
   "execution_count": 49,
   "id": "ffd3de3b",
   "metadata": {},
   "outputs": [
    {
     "data": {
      "text/plain": [
       "{'test_loss': 0.6840968728065491, 'test_acc': 0.6658068299293518}"
      ]
     },
     "execution_count": 49,
     "metadata": {},
     "output_type": "execute_result"
    }
   ],
   "source": [
    "resultg = metric.evaluate(model, train_loader)\n",
    "resultg"
   ]
  },
  {
   "cell_type": "code",
   "execution_count": 50,
   "id": "efcf2d23",
   "metadata": {},
   "outputs": [
    {
     "ename": "NameError",
     "evalue": "name 'h2' is not defined",
     "output_type": "error",
     "traceback": [
      "\u001b[0;31m---------------------------------------------------------------------------\u001b[0m",
      "\u001b[0;31mNameError\u001b[0m                                 Traceback (most recent call last)",
      "Cell \u001b[0;32mIn[50], line 1\u001b[0m\n\u001b[0;32m----> 1\u001b[0m history \u001b[38;5;241m=\u001b[39m [result0] \u001b[38;5;241m+\u001b[39m h1 \u001b[38;5;241m+\u001b[39m \u001b[43mh2\u001b[49m \n\u001b[1;32m      2\u001b[0m accuracies \u001b[38;5;241m=\u001b[39m [result[\u001b[38;5;124m'\u001b[39m\u001b[38;5;124mtest_acc\u001b[39m\u001b[38;5;124m'\u001b[39m] \u001b[38;5;28;01mfor\u001b[39;00m result \u001b[38;5;129;01min\u001b[39;00m history]\n\u001b[1;32m      3\u001b[0m plt\u001b[38;5;241m.\u001b[39mplot(accuracies, \u001b[38;5;124m'\u001b[39m\u001b[38;5;124m-x\u001b[39m\u001b[38;5;124m'\u001b[39m)\n",
      "\u001b[0;31mNameError\u001b[0m: name 'h2' is not defined"
     ]
    }
   ],
   "source": [
    "history = [result0] + h1 + h2 \n",
    "accuracies = [result['test_acc'] for result in history]\n",
    "plt.plot(accuracies, '-x')\n",
    "plt.xlabel('epoch')\n",
    "plt.ylabel('accuracy')\n",
    "plt.title('Accuracy vs. No. of epochs');"
   ]
  },
  {
   "cell_type": "code",
   "execution_count": 30,
   "id": "0e0edafe",
   "metadata": {},
   "outputs": [
    {
     "data": {
      "image/png": "[encoded data removed]",
      "text/plain": [
       "<Figure size 432x288 with 1 Axes>"
      ]
     },
     "metadata": {
      "needs_background": "light"
     },
     "output_type": "display_data"
    }
   ],
   "source": [
    "history = [resultg] + h1 + h2 \n",
    "accuracies = [result['test_acc'] for result in history]\n",
    "plt.plot(accuracies, '-x')\n",
    "plt.xlabel('epoch')\n",
    "plt.ylabel('accuracy')\n",
    "plt.title('Accuracy vs. No. of epochs');"
   ]
  },
  {
   "cell_type": "code",
   "execution_count": 31,
   "id": "37b14164",
   "metadata": {},
   "outputs": [],
   "source": [
    "optimizer=torch.optim.Adam(model.parameters(),lr=0.001)\n",
    "loss_function= nn.CrossEntropyLoss()"
   ]
  },
  {
   "cell_type": "code",
   "execution_count": null,
   "id": "53efaab0",
   "metadata": {},
   "outputs": [],
   "source": []
  },
  {
   "cell_type": "code",
   "execution_count": 32,
   "id": "c411ebb0",
   "metadata": {},
   "outputs": [],
   "source": [
    "from tqdm.notebook import tqdm\n",
    "import torch.nn.functional as F#"
   ]
  },
  {
   "cell_type": "code",
   "execution_count": 33,
   "id": "06dcd8c9",
   "metadata": {},
   "outputs": [],
   "source": [
    "optimizer=torch.optim.Adam(model.parameters(),lr=0.001)\n",
    "loss_function= nn.CrossEntropyLoss()"
   ]
  },
  {
   "cell_type": "code",
   "execution_count": 34,
   "id": "0004af5a",
   "metadata": {},
   "outputs": [],
   "source": [
    "test_x=feed_device(test_x,device)\n",
    "test_y=feed_device(test_y,device)"
   ]
  },
  {
   "cell_type": "code",
   "execution_count": 35,
   "id": "8d86bf22",
   "metadata": {},
   "outputs": [
    {
     "name": "stdout",
     "output_type": "stream",
     "text": [
      "accuracy: tensor(0.5717)\n"
     ]
    }
   ],
   "source": [
    "out=model(test_x)\n",
    "_, preds = torch.max(out, dim=1)\n",
    "print(\"accuracy:\",torch.tensor(torch.sum(preds == test_y).item() / len(preds)))\n",
    "#cpu 15epoch "
   ]
  },
  {
   "cell_type": "code",
   "execution_count": 36,
   "id": "aff2ff44",
   "metadata": {},
   "outputs": [
    {
     "name": "stdout",
     "output_type": "stream",
     "text": [
      "accuracy: tensor(0.5717)\n"
     ]
    }
   ],
   "source": [
    "out=model(test_x)\n",
    "_, preds = torch.max(out, dim=1)\n",
    "print(\"accuracy:\",torch.tensor(torch.sum(preds == test_y).item() / len(preds)))\n",
    "#cpu 15epoch "
   ]
  },
  {
   "cell_type": "code",
   "execution_count": 37,
   "id": "58f221a9",
   "metadata": {},
   "outputs": [
    {
     "name": "stdout",
     "output_type": "stream",
     "text": [
      "accuracy: tensor(0.5717)\n"
     ]
    }
   ],
   "source": [
    "out=model(test_x)\n",
    "_, preds = torch.max(out, dim=1)\n",
    "print(\"accuracy:\",torch.tensor(torch.sum(preds == test_y).item() / len(preds)))\n",
    "#cpu 15epoch "
   ]
  },
  {
   "cell_type": "code",
   "execution_count": 38,
   "id": "2fe101c4",
   "metadata": {},
   "outputs": [
    {
     "name": "stdout",
     "output_type": "stream",
     "text": [
      "11519\n"
     ]
    }
   ],
   "source": [
    "k=0\n",
    "for i in range(0,len(test_y)):\n",
    "    if test_y[i]==preds[i]:\n",
    "        k=k+1\n",
    "print(k)\n",
    "     "
   ]
  },
  {
   "cell_type": "code",
   "execution_count": 39,
   "id": "6310f026",
   "metadata": {},
   "outputs": [
    {
     "name": "stdout",
     "output_type": "stream",
     "text": [
      "accuracy: tensor(0.5717)\n"
     ]
    }
   ],
   "source": [
    "out=model(test_x)\n",
    "_, preds = torch.max(out, dim=1)\n",
    "print(\"accuracy:\",torch.tensor(torch.sum(preds == test_y).item() / len(preds)))\n",
    "#cpu 15epoch "
   ]
  }
 ],
 "metadata": {
  "kernelspec": {
   "display_name": "Python 3 (ipykernel)",
   "language": "python",
   "name": "python3"
  },
  "language_info": {
   "codemirror_mode": {
    "name": "ipython",
    "version": 3
   },
   "file_extension": ".py",
   "mimetype": "text/x-python",
   "name": "python",
   "nbconvert_exporter": "python",
   "pygments_lexer": "ipython3",
   "version": "3.8.13"
  }
 },
 "nbformat": 4,
 "nbformat_minor": 5
}
